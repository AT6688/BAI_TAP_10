{
 "cells": [
  {
   "cell_type": "code",
   "execution_count": 25,
   "id": "99bdd3ea",
   "metadata": {},
   "outputs": [
    {
     "name": "stdout",
     "output_type": "stream",
     "text": [
      "nhap vao tu can tra cuu: love\n",
      "ai\n"
     ]
    }
   ],
   "source": [
    "#tu dien python \"English - Japanese\"\n",
    "\n",
    "data_base = {\n",
    "    'love' : \"ai\",\n",
    "    'friend' : \"tomodachi\",\n",
    "    'chicken' : \"niwatori\",\n",
    "    'white' : \"siro\"   \n",
    "}\n",
    "\n",
    "\n",
    "def tim_kiem(data_base, tu):\n",
    "    if tu in data_base:\n",
    "        return(data_base[tu])\n",
    "    else:\n",
    "        print(\"not found\")\n",
    "        \n",
    "tra_cuu = input(\"nhap vao tu can tra cuu: \")\n",
    "tu_dich = tim_kiem(data_base, tra_cuu)\n",
    "\n",
    "print(tu_dich)\n",
    "\n",
    "\n"
   ]
  },
  {
   "cell_type": "code",
   "execution_count": 26,
   "id": "602783d8",
   "metadata": {},
   "outputs": [
    {
     "name": "stdout",
     "output_type": "stream",
     "text": [
      "so lan xuat hien cua tu la:  2\n"
     ]
    }
   ],
   "source": [
    "# dem tu trong doan text\n",
    "\n",
    "txt = \"\"\"\n",
    "Wikipedia differs from printed references in important ways. \n",
    "It is continually created and updated, and articles on new events \n",
    "appear within minutes rather than months or years. \n",
    "Because anyone can improve Wikipedia, it has become more comprehensive \n",
    "than any other encyclopedia. Its contributors improve the quality and quantity\n",
    "of the articles as well as remove misinformation, errors, and vandalism. \n",
    "Any reader who recognizes a mistake or finds places in articles \n",
    "which need more information (see Wikipedia:Researching with Wikipedia) \n",
    "can expand or fix articles.\n",
    "\n",
    "\"\"\"\n",
    "\n",
    "dem = 0\n",
    "\n",
    "text_list = txt.split(\" \")\n",
    "for word in text_list:\n",
    "    word.lower()\n",
    "    word.strip()\n",
    "    if word == \"more\":\n",
    "        dem += 1\n",
    "\n",
    "print(\"so lan xuat hien cua tu la: \", dem)\n",
    "\n"
   ]
  }
 ],
 "metadata": {
  "kernelspec": {
   "display_name": "Python 3 (ipykernel)",
   "language": "python",
   "name": "python3"
  },
  "language_info": {
   "codemirror_mode": {
    "name": "ipython",
    "version": 3
   },
   "file_extension": ".py",
   "mimetype": "text/x-python",
   "name": "python",
   "nbconvert_exporter": "python",
   "pygments_lexer": "ipython3",
   "version": "3.9.12"
  }
 },
 "nbformat": 4,
 "nbformat_minor": 5
}
